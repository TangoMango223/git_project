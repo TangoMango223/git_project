{
 "cells": [
  {
   "cell_type": "code",
   "execution_count": 1,
   "metadata": {},
   "outputs": [
    {
     "name": "stdout",
     "output_type": "stream",
     "text": [
      "Hello World!\n"
     ]
    }
   ],
   "source": [
    "print(\"Hello World!\")\n",
    "print(\"Additional Changes\")\n",
    "print(\"More changes for Main!!\")"
   ]
  },
  {
   "cell_type": "code",
   "execution_count": null,
   "metadata": {},
   "outputs": [],
   "source": [
    "# Rundown of how git works\n",
    "\n",
    "# git branch -a\n",
    "# git checkout \n",
    "# git checkout -b branch-1\n",
    "\n",
    "# You can flip back and forth between the branches and see the different versions you have\n",
    "\n",
    "# Let's assume you made a new feature branch-2\n",
    "# git checkout -b branch-2\n",
    "# from here, type \"git merge main\" --> or replace main with the name of the branch you want to merge the changes from\n",
    "# do your work\n",
    "\n",
    "# and ta-da!\n",
    "\n",
    "# Resolving conflicts\n",
    "\n",
    "# git status\n",
    "\n",
    "# Open the conflicting file\n",
    "# fix the conflicts from the issue file --> git add script.py\n",
    "# git commit -m \"Hello\"\n",
    "\n",
    "# To view history of each branch or the commits:\n",
    "# git log"
   ]
  }
 ],
 "metadata": {
  "kernelspec": {
   "display_name": ".venv",
   "language": "python",
   "name": "python3"
  },
  "language_info": {
   "codemirror_mode": {
    "name": "ipython",
    "version": 3
   },
   "file_extension": ".py",
   "mimetype": "text/x-python",
   "name": "python",
   "nbconvert_exporter": "python",
   "pygments_lexer": "ipython3",
   "version": "3.9.6"
  }
 },
 "nbformat": 4,
 "nbformat_minor": 2
}
